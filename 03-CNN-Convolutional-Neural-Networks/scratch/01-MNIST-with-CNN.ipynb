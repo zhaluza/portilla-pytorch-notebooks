{
 "cells": [
  {
   "cell_type": "code",
   "execution_count": 1,
   "metadata": {},
   "outputs": [
    {
     "name": "stderr",
     "output_type": "stream",
     "text": [
      "/Users/zhaluza/opt/miniconda3/envs/pytorchenv/lib/python3.7/site-packages/sklearn/utils/validation.py:37: DeprecationWarning: distutils Version classes are deprecated. Use packaging.version instead.\n",
      "  LARGE_SPARSE_SUPPORTED = LooseVersion(scipy_version) >= '0.14.0'\n"
     ]
    }
   ],
   "source": [
    "import torch\n",
    "import torch.nn as nn\n",
    "import torch.nn.functional as F\n",
    "from torch.utils.data import DataLoader\n",
    "from torchvision import datasets, transforms\n",
    "from torchvision.utils import make_grid\n",
    "\n",
    "import numpy as np\n",
    "import pandas as pd\n",
    "from sklearn.metrics import confusion_matrix\n",
    "import matplotlib.pyplot as plt"
   ]
  },
  {
   "cell_type": "code",
   "execution_count": 2,
   "metadata": {},
   "outputs": [],
   "source": [
    "transform = transforms.ToTensor()"
   ]
  },
  {
   "cell_type": "code",
   "execution_count": 3,
   "metadata": {},
   "outputs": [],
   "source": [
    "train_data = datasets.MNIST(\"../Data/\", train=True, download=True, transform=transform)\n"
   ]
  },
  {
   "cell_type": "code",
   "execution_count": 4,
   "metadata": {},
   "outputs": [],
   "source": [
    "test_data = datasets.MNIST(\"../Data\", train=False, download=True, transform=transform)\n"
   ]
  },
  {
   "cell_type": "code",
   "execution_count": 5,
   "metadata": {},
   "outputs": [
    {
     "data": {
      "text/plain": [
       "Dataset MNIST\n",
       "    Number of datapoints: 60000\n",
       "    Split: train\n",
       "    Root Location: ../Data/\n",
       "    Transforms (if any): ToTensor()\n",
       "    Target Transforms (if any): None"
      ]
     },
     "execution_count": 5,
     "metadata": {},
     "output_type": "execute_result"
    }
   ],
   "source": [
    "train_data"
   ]
  },
  {
   "cell_type": "code",
   "execution_count": 6,
   "metadata": {},
   "outputs": [
    {
     "data": {
      "text/plain": [
       "Dataset MNIST\n",
       "    Number of datapoints: 10000\n",
       "    Split: test\n",
       "    Root Location: ../Data\n",
       "    Transforms (if any): ToTensor()\n",
       "    Target Transforms (if any): None"
      ]
     },
     "execution_count": 6,
     "metadata": {},
     "output_type": "execute_result"
    }
   ],
   "source": [
    "test_data"
   ]
  },
  {
   "cell_type": "code",
   "execution_count": 7,
   "metadata": {},
   "outputs": [],
   "source": [
    "train_loader = DataLoader(train_data, batch_size=10, shuffle=True)\n",
    "test_loader = DataLoader(test_data, batch_size=10, shuffle=True)"
   ]
  },
  {
   "cell_type": "markdown",
   "metadata": {},
   "source": [
    "Let's break down our convolutional layers.\n",
    "\n",
    "We'll eventually incorporate all of this into our model class later, but for now let's examine these details in isolation."
   ]
  },
  {
   "cell_type": "code",
   "execution_count": 8,
   "metadata": {},
   "outputs": [],
   "source": [
    "# 1 Color channel (input), 6 filters (output channels), 3x3 kernel, stride=1\n",
    "conv_layer_1 = nn.Conv2d(1, 6, 3, 1)  # Image --> 6 filters --> pooling --> conv2\n",
    "\n",
    "# 6 input filters (from layer 1), 16 filter outputs, 3x3 kernel, stride=1\n",
    "conv_layer_2 = nn.Conv2d(6, 16, 3, 1)\n"
   ]
  },
  {
   "cell_type": "code",
   "execution_count": 9,
   "metadata": {},
   "outputs": [],
   "source": [
    "# This loop lets us grab the first batch of data\n",
    "for i, (X_train, y_train) in enumerate(train_data):\n",
    "    break"
   ]
  },
  {
   "cell_type": "code",
   "execution_count": 10,
   "metadata": {},
   "outputs": [],
   "source": [
    "# Default shape: torch.Size([1, 28, 28])\n",
    "x = X_train.view(1, 1, 28, 28)  # reshape to be a 4D batch (of 1 image)\n"
   ]
  },
  {
   "cell_type": "code",
   "execution_count": 11,
   "metadata": {},
   "outputs": [],
   "source": [
    "# Perform first convolution\n",
    "x = F.relu(conv_layer_1(x))"
   ]
  },
  {
   "cell_type": "code",
   "execution_count": 12,
   "metadata": {},
   "outputs": [
    {
     "data": {
      "text/plain": [
       "torch.Size([1, 6, 26, 26])"
      ]
     },
     "execution_count": 12,
     "metadata": {},
     "output_type": "execute_result"
    }
   ],
   "source": [
    "x.shape\n",
    "# 1 image, 6 filters, 26 x 26 because we lost some border info during the convolution"
   ]
  },
  {
   "cell_type": "code",
   "execution_count": 13,
   "metadata": {},
   "outputs": [],
   "source": [
    "# Pass it through a pooling layer\n",
    "x = F.max_pool2d(x, 2, 2) # kernel size 2x2, stride=2\n"
   ]
  },
  {
   "cell_type": "code",
   "execution_count": 14,
   "metadata": {},
   "outputs": [
    {
     "data": {
      "text/plain": [
       "torch.Size([1, 6, 13, 13])"
      ]
     },
     "execution_count": 14,
     "metadata": {},
     "output_type": "execute_result"
    }
   ],
   "source": [
    "x.shape"
   ]
  },
  {
   "cell_type": "code",
   "execution_count": 15,
   "metadata": {},
   "outputs": [],
   "source": [
    "# Pass through our 2nd convolutional layer\n",
    "x = F.relu(conv_layer_2(x))"
   ]
  },
  {
   "cell_type": "code",
   "execution_count": 16,
   "metadata": {},
   "outputs": [
    {
     "data": {
      "text/plain": [
       "torch.Size([1, 16, 11, 11])"
      ]
     },
     "execution_count": 16,
     "metadata": {},
     "output_type": "execute_result"
    }
   ],
   "source": [
    "x.shape"
   ]
  },
  {
   "cell_type": "code",
   "execution_count": 17,
   "metadata": {},
   "outputs": [],
   "source": [
    "# Pass it through another pooling layer\n",
    "x = F.max_pool2d(x, 2, 2)\n"
   ]
  },
  {
   "cell_type": "code",
   "execution_count": 18,
   "metadata": {},
   "outputs": [
    {
     "data": {
      "text/plain": [
       "torch.Size([1, 16, 5, 5])"
      ]
     },
     "execution_count": 18,
     "metadata": {},
     "output_type": "execute_result"
    }
   ],
   "source": [
    "x.shape"
   ]
  },
  {
   "cell_type": "code",
   "execution_count": 19,
   "metadata": {},
   "outputs": [
    {
     "data": {
      "text/plain": [
       "torch.Size([1, 400])"
      ]
     },
     "execution_count": 19,
     "metadata": {},
     "output_type": "execute_result"
    }
   ],
   "source": [
    "# Then we would feed the output into a flattened layer\n",
    "x.view(-1, 16 * 5 * 5).shape\n"
   ]
  },
  {
   "cell_type": "markdown",
   "metadata": {},
   "source": [
    "Now let's refactor the code above to use a class."
   ]
  },
  {
   "cell_type": "code",
   "execution_count": 20,
   "metadata": {},
   "outputs": [],
   "source": [
    "class ConvolutionalNetwork(nn.Module):\n",
    "    def __init__(self):\n",
    "        super().__init__()\n",
    "        self.convolution_layer_1 = nn.Conv2d(1, 6, 3, 1)\n",
    "        self.convolution_layer_2 = nn.Conv2d(6, 16, 3, 1)\n",
    "        self.fully_connected_layer_1 = nn.Linear(5 * 5 * 16, 120)\n",
    "        self.fully_connected_layer_2 = nn.Linear(120, 84)\n",
    "        self.fully_connected_layer_3 = nn.Linear(\n",
    "            84, 10\n",
    "        )  # Output must be 10 (we have 10 classes)\n",
    "\n",
    "    def forward(self, X):\n",
    "        X = F.relu(self.convolution_layer_1(X))\n",
    "        X = F.max_pool2d(X, 2, 2)\n",
    "        X = F.relu(self.convolution_layer_2(X))\n",
    "        X = F.max_pool2d(X, 2, 2)\n",
    "        X = X.view(-1, 16 * 5 * 5)  # Flatten it to feed to to the next layer\n",
    "\n",
    "        X = F.relu(self.fully_connected_layer_1(X))\n",
    "        X = F.relu(self.fully_connected_layer_2(X))\n",
    "        X = self.fully_connected_layer_3(X)\n",
    "        return F.log_softmax(X, dim=1)\n"
   ]
  },
  {
   "cell_type": "code",
   "execution_count": 21,
   "metadata": {},
   "outputs": [
    {
     "data": {
      "text/plain": [
       "ConvolutionalNetwork(\n",
       "  (convolution_layer_1): Conv2d(1, 6, kernel_size=(3, 3), stride=(1, 1))\n",
       "  (convolution_layer_2): Conv2d(6, 16, kernel_size=(3, 3), stride=(1, 1))\n",
       "  (fully_connected_layer_1): Linear(in_features=400, out_features=120, bias=True)\n",
       "  (fully_connected_layer_2): Linear(in_features=120, out_features=84, bias=True)\n",
       "  (fully_connected_layer_3): Linear(in_features=84, out_features=10, bias=True)\n",
       ")"
      ]
     },
     "execution_count": 21,
     "metadata": {},
     "output_type": "execute_result"
    }
   ],
   "source": [
    "torch.manual_seed(42)\n",
    "model = ConvolutionalNetwork()\n",
    "model"
   ]
  },
  {
   "cell_type": "code",
   "execution_count": 22,
   "metadata": {},
   "outputs": [
    {
     "name": "stdout",
     "output_type": "stream",
     "text": [
      "54\n",
      "6\n",
      "864\n",
      "16\n",
      "48000\n",
      "120\n",
      "10080\n",
      "84\n",
      "840\n",
      "10\n"
     ]
    }
   ],
   "source": [
    "for param in model.parameters():\n",
    "    # print out all the elements in our model parameters\n",
    "    # This comes out to about half of what our ANN generated\n",
    "    # And is therefore easier to work with\n",
    "    print(param.numel())"
   ]
  },
  {
   "cell_type": "code",
   "execution_count": 23,
   "metadata": {},
   "outputs": [],
   "source": [
    "# Define our loss function and optimizer\n",
    "criterion = nn.CrossEntropyLoss()\n",
    "optimizer = torch.optim.Adam(model.parameters(), lr=0.001)"
   ]
  },
  {
   "cell_type": "markdown",
   "metadata": {},
   "source": [
    "Time to train our model."
   ]
  },
  {
   "cell_type": "code",
   "execution_count": 24,
   "metadata": {},
   "outputs": [
    {
     "name": "stdout",
     "output_type": "stream",
     "text": [
      "Epoch 0, Batch 600, Loss: 0.17883241176605225\n",
      "Epoch 0, Batch 1200, Loss: 0.4943338930606842\n",
      "Epoch 0, Batch 1800, Loss: 0.03291361406445503\n",
      "Epoch 0, Batch 2400, Loss: 0.017354849725961685\n",
      "Epoch 0, Batch 3000, Loss: 0.011598430573940277\n",
      "Epoch 0, Batch 3600, Loss: 0.009837332181632519\n",
      "Epoch 0, Batch 4200, Loss: 0.06082184985280037\n",
      "Epoch 0, Batch 4800, Loss: 0.0009401088464073837\n",
      "Epoch 0, Batch 5400, Loss: 0.0004627159214578569\n",
      "Epoch 0, Batch 6000, Loss: 0.004779329523444176\n",
      "Epoch 1, Batch 600, Loss: 0.05388954281806946\n",
      "Epoch 1, Batch 1200, Loss: 0.013743053190410137\n",
      "Epoch 1, Batch 1800, Loss: 0.031119558960199356\n",
      "Epoch 1, Batch 2400, Loss: 0.01517399400472641\n",
      "Epoch 1, Batch 3000, Loss: 0.002350729890167713\n",
      "Epoch 1, Batch 3600, Loss: 0.033778492361307144\n",
      "Epoch 1, Batch 4200, Loss: 0.8657294511795044\n",
      "Epoch 1, Batch 4800, Loss: 0.00044227796024642885\n",
      "Epoch 1, Batch 5400, Loss: 0.0017169509083032608\n",
      "Epoch 1, Batch 6000, Loss: 0.00604212936013937\n",
      "Epoch 2, Batch 600, Loss: 0.006275945343077183\n",
      "Epoch 2, Batch 1200, Loss: 0.22551722824573517\n",
      "Epoch 2, Batch 1800, Loss: 0.002276146551594138\n",
      "Epoch 2, Batch 2400, Loss: 0.0025773239322006702\n",
      "Epoch 2, Batch 3000, Loss: 0.004971102811396122\n",
      "Epoch 2, Batch 3600, Loss: 0.0004630493058357388\n",
      "Epoch 2, Batch 4200, Loss: 3.294586349511519e-05\n",
      "Epoch 2, Batch 4800, Loss: 0.0013692880747839808\n",
      "Epoch 2, Batch 5400, Loss: 8.780674397712573e-05\n",
      "Epoch 2, Batch 6000, Loss: 0.18922647833824158\n",
      "Epoch 3, Batch 600, Loss: 0.0018683727830648422\n",
      "Epoch 3, Batch 1200, Loss: 4.4471496948972344e-05\n",
      "Epoch 3, Batch 1800, Loss: 0.0009130975231528282\n",
      "Epoch 3, Batch 2400, Loss: 0.1113591343164444\n",
      "Epoch 3, Batch 3000, Loss: 0.33419376611709595\n",
      "Epoch 3, Batch 3600, Loss: 0.004418264143168926\n",
      "Epoch 3, Batch 4200, Loss: 0.00027205998776480556\n",
      "Epoch 3, Batch 4800, Loss: 0.025504862889647484\n",
      "Epoch 3, Batch 5400, Loss: 5.0005757657345384e-05\n",
      "Epoch 3, Batch 6000, Loss: 0.00016765636974014342\n",
      "Epoch 4, Batch 600, Loss: 0.0032561179250478745\n",
      "Epoch 4, Batch 1200, Loss: 0.00019362580496817827\n",
      "Epoch 4, Batch 1800, Loss: 0.19173145294189453\n",
      "Epoch 4, Batch 2400, Loss: 0.00022985413670539856\n",
      "Epoch 4, Batch 3000, Loss: 0.00036705960519611835\n",
      "Epoch 4, Batch 3600, Loss: 0.1170969158411026\n",
      "Epoch 4, Batch 4200, Loss: 9.771865006769076e-05\n",
      "Epoch 4, Batch 4800, Loss: 0.14539605379104614\n",
      "Epoch 4, Batch 5400, Loss: 0.0007582689868286252\n",
      "Epoch 4, Batch 6000, Loss: 0.0037452050019055605\n",
      "Training took 3.231868513425191 minutes\n"
     ]
    }
   ],
   "source": [
    "import time\n",
    "start_time = time.time()\n",
    "\n",
    "# VARIABLES (TRACKERS)\n",
    "epochs = 5\n",
    "train_losses = []\n",
    "test_losses = []\n",
    "train_correct = []\n",
    "test_correct = []\n",
    "\n",
    "# FOR LOOP (EPOCHS)\n",
    "for i in range(epochs):\n",
    "    trn_corr = 0\n",
    "    tst_corr = 0\n",
    "\n",
    "    # TRAIN\n",
    "    for batch, (X_train, y_train) in enumerate(train_loader):\n",
    "        batch += 1\n",
    "\n",
    "        y_pred = model(X_train) # Do not need to flatten - network expects 2D data, unlike ANN\n",
    "        loss = criterion(y_pred, y_train)\n",
    "\n",
    "        predicted = torch.max(y_pred.data, 1)[1]\n",
    "        batch_corr = (predicted == y_train).sum() # True 1 / False 0\n",
    "        trn_corr += batch_corr\n",
    "\n",
    "        optimizer.zero_grad()\n",
    "        loss.backward()\n",
    "        optimizer.step()\n",
    "\n",
    "        # Print out ome interim resuls\n",
    "        if batch % 600 == 0:\n",
    "            print(f\"Epoch {i}, Batch {batch}, Loss: {loss.item()}\")\n",
    "\n",
    "    train_losses.append(loss)\n",
    "    train_correct.append(trn_corr)\n",
    "\n",
    "    # TEST\n",
    "    with torch.no_grad():\n",
    "        for batch, (X_test, y_test) in enumerate(test_loader):\n",
    "            y_val = model(X_test)\n",
    "            predicted = torch.max(y_val.data, 1)[1]\n",
    "            tst_corr += (predicted == y_test).sum()\n",
    "\n",
    "    loss = criterion(y_val, y_test)\n",
    "    test_losses.append(loss)\n",
    "    test_correct.append(tst_corr)\n",
    "\n",
    "current_time = time.time()\n",
    "total = current_time - start_time\n",
    "print(f\"Training took {total / 60} minutes\")"
   ]
  },
  {
   "cell_type": "markdown",
   "metadata": {},
   "source": [
    "Now that we've trained our model, let's visualize the results."
   ]
  },
  {
   "cell_type": "code",
   "execution_count": 25,
   "metadata": {},
   "outputs": [
    {
     "data": {
      "image/png": "[encoded data removed]",
      "text/plain": [
       "<Figure size 432x288 with 1 Axes>"
      ]
     },
     "metadata": {
      "needs_background": "light"
     },
     "output_type": "display_data"
    }
   ],
   "source": [
    "plt.plot(train_losses, label=\"Train loss\")\n",
    "plt.plot(test_losses, label=\"Validation loss\")\n",
    "plt.title(\"Loss at epoch\")\n",
    "plt.legend();"
   ]
  },
  {
   "cell_type": "code",
   "execution_count": 26,
   "metadata": {},
   "outputs": [
    {
     "data": {
      "image/png": "[encoded data removed]",
      "text/plain": [
       "<Figure size 432x288 with 1 Axes>"
      ]
     },
     "metadata": {
      "needs_background": "light"
     },
     "output_type": "display_data"
    }
   ],
   "source": [
    "plt.plot([t / 600 for t in train_correct], label=\"Training accuracy\")\n",
    "plt.plot([t / 100 for t in test_correct], label=\"Validation accuracy\")\n",
    "plt.title(\"Accuracy at the end of each epoch\")\n",
    "plt.legend();"
   ]
  },
  {
   "cell_type": "code",
   "execution_count": 29,
   "metadata": {},
   "outputs": [],
   "source": [
    "# Load all the test data (all unseen by the model) and run it through the model\n",
    "test_load_all = DataLoader(test_data, batch_size=10000, shuffle=False)"
   ]
  },
  {
   "cell_type": "code",
   "execution_count": 30,
   "metadata": {},
   "outputs": [],
   "source": [
    "with torch.no_grad():\n",
    "    correct = 0\n",
    "    for X_test, y_test in test_load_all:\n",
    "        y_val = model(X_test)\n",
    "        predicted = torch.max(y_val, 1)[1]\n",
    "        correct += (predicted == y_test).sum()"
   ]
  },
  {
   "cell_type": "code",
   "execution_count": 33,
   "metadata": {},
   "outputs": [
    {
     "name": "stdout",
     "output_type": "stream",
     "text": [
      "Accuracy: 98.8%\n"
     ]
    }
   ],
   "source": [
    "accuracy = correct.item() / len(test_data)\n",
    "print(f\"Accuracy: {accuracy * 100}%\")"
   ]
  },
  {
   "cell_type": "code",
   "execution_count": 34,
   "metadata": {},
   "outputs": [
    {
     "name": "stdout",
     "output_type": "stream",
     "text": [
      "[[   0    1    2    3    4    5    6    7    8    9]]\n",
      "\n",
      "[[ 973    0    0    0    0    1    5    1    4    0]\n",
      " [   0 1127    2    0    0    0    1    3    0    0]\n",
      " [   0    1 1024    2    0    0    0    4    3    0]\n",
      " [   0    2    1 1005    0    9    0    1    3    3]\n",
      " [   0    0    1    0  980    0    4    0    3   11]\n",
      " [   0    0    0    2    0  879    3    0    4    7]\n",
      " [   3    3    0    0    0    1  943    0    0    0]\n",
      " [   1    1    3    0    0    0    0 1015    3    4]\n",
      " [   1    1    1    1    0    0    2    1  951    1]\n",
      " [   2    0    0    0    2    2    0    3    3  983]]\n"
     ]
    }
   ],
   "source": [
    "# Confusion matrix\n",
    "\n",
    "# Print a row of vals for reference\n",
    "np.set_printoptions(formatter=dict(int=lambda x: f\"{x:4}\"))\n",
    "print(np.arange(10).reshape(1, 10))\n",
    "print()\n",
    "\n",
    "# print the confusion matrix\n",
    "print(confusion_matrix(predicted.view(-1), y_test.view(-1)))\n"
   ]
  }
 ],
 "metadata": {
  "kernelspec": {
   "display_name": "Python 3.7.3 ('pytorchenv')",
   "language": "python",
   "name": "python3"
  },
  "language_info": {
   "codemirror_mode": {
    "name": "ipython",
    "version": 3
   },
   "file_extension": ".py",
   "mimetype": "text/x-python",
   "name": "python",
   "nbconvert_exporter": "python",
   "pygments_lexer": "ipython3",
   "version": "3.7.3"
  },
  "orig_nbformat": 4,
  "vscode": {
   "interpreter": {
    "hash": "a07926e13da83625e8ea700d1e5c5ff159d56a271e96d0b65359b91b3fea6773"
   }
  }
 },
 "nbformat": 4,
 "nbformat_minor": 2
}
