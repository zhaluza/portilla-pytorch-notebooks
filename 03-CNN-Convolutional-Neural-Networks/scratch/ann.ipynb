{
 "cells": [
  {
   "cell_type": "code",
   "execution_count": 1,
   "metadata": {},
   "outputs": [],
   "source": [
    "import torch\n",
    "import torch.nn as nn\n",
    "import torch.nn.functional as F"
   ]
  },
  {
   "cell_type": "code",
   "execution_count": 2,
   "metadata": {},
   "outputs": [],
   "source": [
    "from torch.utils.data import DataLoader\n",
    "from torchvision import datasets, transforms"
   ]
  },
  {
   "cell_type": "code",
   "execution_count": 3,
   "metadata": {},
   "outputs": [
    {
     "name": "stderr",
     "output_type": "stream",
     "text": [
      "/Users/zhaluza/opt/miniconda3/envs/pytorchenv/lib/python3.7/site-packages/sklearn/utils/validation.py:37: DeprecationWarning: distutils Version classes are deprecated. Use packaging.version instead.\n",
      "  LARGE_SPARSE_SUPPORTED = LooseVersion(scipy_version) >= '0.14.0'\n"
     ]
    }
   ],
   "source": [
    "import numpy as np\n",
    "import pandas as pd\n",
    "from sklearn.metrics import confusion_matrix\n",
    "import matplotlib.pyplot as plt"
   ]
  },
  {
   "cell_type": "markdown",
   "metadata": {},
   "source": [
    "Conert MNIST images to tensors"
   ]
  },
  {
   "cell_type": "code",
   "execution_count": 4,
   "metadata": {},
   "outputs": [],
   "source": [
    "transform = transforms.ToTensor()"
   ]
  },
  {
   "cell_type": "code",
   "execution_count": 5,
   "metadata": {},
   "outputs": [],
   "source": [
    "train_data = datasets.MNIST(\n",
    "    root=\"../Data\", train=True, download=True, transform=transform\n",
    ")\n"
   ]
  },
  {
   "cell_type": "code",
   "execution_count": 6,
   "metadata": {},
   "outputs": [],
   "source": [
    "test_data = datasets.MNIST(\n",
    "    root=\"../Data\", train=False, download=True, transform=transform\n",
    ")\n"
   ]
  },
  {
   "cell_type": "markdown",
   "metadata": {},
   "source": [
    "Let's check our training and test data:"
   ]
  },
  {
   "cell_type": "code",
   "execution_count": 7,
   "metadata": {},
   "outputs": [
    {
     "data": {
      "text/plain": [
       "Dataset MNIST\n",
       "    Number of datapoints: 60000\n",
       "    Split: train\n",
       "    Root Location: ../Data\n",
       "    Transforms (if any): ToTensor()\n",
       "    Target Transforms (if any): None"
      ]
     },
     "execution_count": 7,
     "metadata": {},
     "output_type": "execute_result"
    }
   ],
   "source": [
    "train_data"
   ]
  },
  {
   "cell_type": "code",
   "execution_count": 8,
   "metadata": {},
   "outputs": [
    {
     "data": {
      "text/plain": [
       "Dataset MNIST\n",
       "    Number of datapoints: 10000\n",
       "    Split: test\n",
       "    Root Location: ../Data\n",
       "    Transforms (if any): ToTensor()\n",
       "    Target Transforms (if any): None"
      ]
     },
     "execution_count": 8,
     "metadata": {},
     "output_type": "execute_result"
    }
   ],
   "source": [
    "test_data"
   ]
  },
  {
   "cell_type": "code",
   "execution_count": 9,
   "metadata": {},
   "outputs": [
    {
     "data": {
      "text/plain": [
       "torchvision.datasets.mnist.MNIST"
      ]
     },
     "execution_count": 9,
     "metadata": {},
     "output_type": "execute_result"
    }
   ],
   "source": [
    "type(train_data)"
   ]
  },
  {
   "cell_type": "markdown",
   "metadata": {},
   "source": [
    "The training data is stored as an array of tuples:\n",
    "\n",
    "`[ (tensor, label), ... ]`"
   ]
  },
  {
   "cell_type": "code",
   "execution_count": 10,
   "metadata": {},
   "outputs": [],
   "source": [
    "image, label = train_data[0]"
   ]
  },
  {
   "cell_type": "code",
   "execution_count": 11,
   "metadata": {},
   "outputs": [
    {
     "data": {
      "text/plain": [
       "torch.Size([1, 28, 28])"
      ]
     },
     "execution_count": 11,
     "metadata": {},
     "output_type": "execute_result"
    }
   ],
   "source": [
    "image.shape"
   ]
  },
  {
   "cell_type": "code",
   "execution_count": 12,
   "metadata": {},
   "outputs": [
    {
     "data": {
      "text/plain": [
       "5"
      ]
     },
     "execution_count": 12,
     "metadata": {},
     "output_type": "execute_result"
    }
   ],
   "source": [
    "label"
   ]
  },
  {
   "cell_type": "code",
   "execution_count": 13,
   "metadata": {},
   "outputs": [
    {
     "data": {
      "text/plain": [
       "<matplotlib.image.AxesImage at 0x7f988beb7a90>"
      ]
     },
     "execution_count": 13,
     "metadata": {},
     "output_type": "execute_result"
    },
    {
     "data": {
      "image/png": "[encoded data removed]",
      "text/plain": [
       "<Figure size 432x288 with 1 Axes>"
      ]
     },
     "metadata": {
      "needs_background": "light"
     },
     "output_type": "display_data"
    }
   ],
   "source": [
    "# Visualize this\n",
    "plt.imshow(image.reshape((28, 28)), cmap=\"gist_yarg\")\n",
    "# override matplotlib default color mapping (viridis)\n"
   ]
  },
  {
   "cell_type": "code",
   "execution_count": 14,
   "metadata": {},
   "outputs": [],
   "source": [
    "# Load our training data in batches\n",
    "torch.manual_seed(101)\n",
    "\n",
    "train_loader = DataLoader(train_data, batch_size=100, shuffle=True)\n",
    "test_loader = DataLoader(test_data, batch_size=500, shuffle=False)\n"
   ]
  },
  {
   "cell_type": "code",
   "execution_count": 15,
   "metadata": {},
   "outputs": [],
   "source": [
    "from torchvision.utils import make_grid\n",
    "\n",
    "np.set_printoptions(formatter=dict(int=lambda x: f\"{x:4}\"))  # Formatting\n"
   ]
  },
  {
   "cell_type": "code",
   "execution_count": 16,
   "metadata": {},
   "outputs": [],
   "source": [
    "# FIRST BATCH\n",
    "for images,labels in train_loader:\n",
    "    # 60,000 / 100: 60 times\n",
    "    # We just want the first batch though\n",
    "    # Break the loop to give us the first batch\n",
    "    break"
   ]
  },
  {
   "cell_type": "code",
   "execution_count": 17,
   "metadata": {},
   "outputs": [
    {
     "data": {
      "text/plain": [
       "torch.Size([100, 1, 28, 28])"
      ]
     },
     "execution_count": 17,
     "metadata": {},
     "output_type": "execute_result"
    }
   ],
   "source": [
    "images.shape"
   ]
  },
  {
   "cell_type": "code",
   "execution_count": 18,
   "metadata": {},
   "outputs": [
    {
     "data": {
      "text/plain": [
       "torch.Size([100])"
      ]
     },
     "execution_count": 18,
     "metadata": {},
     "output_type": "execute_result"
    }
   ],
   "source": [
    "labels.shape"
   ]
  },
  {
   "cell_type": "markdown",
   "metadata": {},
   "source": [
    "Let's view our batch of images."
   ]
  },
  {
   "cell_type": "code",
   "execution_count": 19,
   "metadata": {},
   "outputs": [
    {
     "name": "stdout",
     "output_type": "stream",
     "text": [
      "Lables:  [   0    5    7    8    6    7    9    7    1    3    8    4]\n"
     ]
    },
    {
     "data": {
      "image/png": "[encoded data removed]",
      "text/plain": [
       "<Figure size 720x288 with 1 Axes>"
      ]
     },
     "metadata": {
      "needs_background": "light"
     },
     "output_type": "display_data"
    }
   ],
   "source": [
    "# Print the first 12 labels\n",
    "print(\"Lables: \", labels[:12].numpy())\n",
    "\n",
    "# Print the first 12 images\n",
    "im = make_grid(images[:12], nrow=12)  # default nrow is 8\n",
    "plt.figure(figsize=(10, 4))\n",
    "# Transpose images from CWH to WHC\n",
    "plt.imshow(np.transpose(im.numpy(), (1, 2, 0)));\n"
   ]
  },
  {
   "cell_type": "code",
   "execution_count": 20,
   "metadata": {},
   "outputs": [],
   "source": [
    "class MultilayerPerceptron(nn.Module):\n",
    "    def __init__(self, input_size=784, output_size=10, layers=[120, 84]):\n",
    "        super().__init__()\n",
    "\n",
    "        self.fully_connected_1 = nn.Linear(input_size, layers[0])\n",
    "        self.fully_connected_2 = nn.Linear(layers[0], layers[1])\n",
    "        self.fully_connected_3 = nn.Linear(layers[1], output_size)\n",
    "\n",
    "    def forward(self, X):\n",
    "        X = F.relu(self.fully_connected_1(X))\n",
    "        X = F.relu(self.fully_connected_2(X))\n",
    "        X = self.fully_connected_3(X)\n",
    "\n",
    "        return F.log_softmax(X, dim=1) # Multi-class classification\n"
   ]
  },
  {
   "cell_type": "code",
   "execution_count": 21,
   "metadata": {},
   "outputs": [
    {
     "data": {
      "text/plain": [
       "MultilayerPerceptron(\n",
       "  (fully_connected_1): Linear(in_features=784, out_features=120, bias=True)\n",
       "  (fully_connected_2): Linear(in_features=120, out_features=84, bias=True)\n",
       "  (fully_connected_3): Linear(in_features=84, out_features=10, bias=True)\n",
       ")"
      ]
     },
     "execution_count": 21,
     "metadata": {},
     "output_type": "execute_result"
    }
   ],
   "source": [
    "torch.manual_seed(101)\n",
    "model = MultilayerPerceptron()\n",
    "model"
   ]
  },
  {
   "cell_type": "code",
   "execution_count": 22,
   "metadata": {},
   "outputs": [
    {
     "name": "stdout",
     "output_type": "stream",
     "text": [
      "94080\n",
      "120\n",
      "10080\n",
      "84\n",
      "840\n",
      "10\n"
     ]
    }
   ],
   "source": [
    "# ANN ---> CNN\n",
    "# We want to solve this with CNN later since CNN contains fewer paramaters\n",
    "for param in model.parameters():\n",
    "    print(param.numel())"
   ]
  },
  {
   "cell_type": "markdown",
   "metadata": {},
   "source": [
    "We have 105,214 total parameters with our ANN model. A CNN will be much more efficient."
   ]
  },
  {
   "cell_type": "code",
   "execution_count": 23,
   "metadata": {},
   "outputs": [],
   "source": [
    "criterion = nn.CrossEntropyLoss()\n",
    "optimizer = torch.optim.Adam(model.parameters(), lr=0.001)"
   ]
  },
  {
   "cell_type": "code",
   "execution_count": 24,
   "metadata": {},
   "outputs": [
    {
     "data": {
      "text/plain": [
       "torch.Size([100, 1, 28, 28])"
      ]
     },
     "execution_count": 24,
     "metadata": {},
     "output_type": "execute_result"
    }
   ],
   "source": [
    "# We need to flatten our images to a [100, 784] shape\n",
    "images.shape"
   ]
  },
  {
   "cell_type": "code",
   "execution_count": 25,
   "metadata": {},
   "outputs": [
    {
     "data": {
      "text/plain": [
       "torch.Size([100, 784])"
      ]
     },
     "execution_count": 25,
     "metadata": {},
     "output_type": "execute_result"
    }
   ],
   "source": [
    "images.view(100, -1).shape"
   ]
  },
  {
   "cell_type": "markdown",
   "metadata": {},
   "source": [
    "It's time to train our model."
   ]
  },
  {
   "cell_type": "code",
   "execution_count": 26,
   "metadata": {},
   "outputs": [
    {
     "name": "stdout",
     "output_type": "stream",
     "text": [
      "Epoch 0, batch 200; loss: 0.2805541157722473, accuracy: 83.04\n",
      "Epoch 0, batch 400; loss: 0.2030348777770996, accuracy: 87.325\n",
      "Epoch 0, batch 600; loss: 0.20227621495723724, accuracy: 89.32333333333334\n",
      "Epoch 1, batch 200; loss: 0.1445707231760025, accuracy: 94.56\n",
      "Epoch 1, batch 400; loss: 0.10489681363105774, accuracy: 95.11\n",
      "Epoch 1, batch 600; loss: 0.12034713476896286, accuracy: 95.34666666666666\n",
      "Epoch 2, batch 200; loss: 0.11627214401960373, accuracy: 96.53\n",
      "Epoch 2, batch 400; loss: 0.0890628844499588, accuracy: 96.615\n",
      "Epoch 2, batch 600; loss: 0.10235453397035599, accuracy: 96.74\n",
      "Epoch 3, batch 200; loss: 0.05358918756246567, accuracy: 97.475\n",
      "Epoch 3, batch 400; loss: 0.054050594568252563, accuracy: 97.475\n",
      "Epoch 3, batch 600; loss: 0.05676334723830223, accuracy: 97.51333333333334\n",
      "Epoch 4, batch 200; loss: 0.13540565967559814, accuracy: 97.945\n",
      "Epoch 4, batch 400; loss: 0.09042362868785858, accuracy: 98.01\n",
      "Epoch 4, batch 600; loss: 0.12622961401939392, accuracy: 98.04666666666667\n",
      "Epoch 5, batch 200; loss: 0.04426926001906395, accuracy: 98.32\n",
      "Epoch 5, batch 400; loss: 0.04258859157562256, accuracy: 98.375\n",
      "Epoch 5, batch 600; loss: 0.049549173563718796, accuracy: 98.355\n",
      "Epoch 6, batch 200; loss: 0.0032865225803107023, accuracy: 99.005\n",
      "Epoch 6, batch 400; loss: 0.06625524908304214, accuracy: 98.83\n",
      "Epoch 6, batch 600; loss: 0.07055092602968216, accuracy: 98.71\n",
      "Epoch 7, batch 200; loss: 0.03224197402596474, accuracy: 99.185\n",
      "Epoch 7, batch 400; loss: 0.03194227069616318, accuracy: 99.07\n",
      "Epoch 7, batch 600; loss: 0.04978586733341217, accuracy: 99.01\n",
      "Epoch 8, batch 200; loss: 0.00755636440590024, accuracy: 99.29\n",
      "Epoch 8, batch 400; loss: 0.02536814473569393, accuracy: 99.14\n",
      "Epoch 8, batch 600; loss: 0.005339618772268295, accuracy: 99.05833333333334\n",
      "Epoch 9, batch 200; loss: 0.01556282490491867, accuracy: 99.35\n",
      "Epoch 9, batch 400; loss: 0.0048082307912409306, accuracy: 99.3275\n",
      "Epoch 9, batch 600; loss: 0.006467947270721197, accuracy: 99.24833333333333\n",
      "Duration: 0.9515559355417887 mins\n"
     ]
    }
   ],
   "source": [
    "import time\n",
    "\n",
    "start_time = time.time()\n",
    "\n",
    "# TRAINING\n",
    "epochs = 10\n",
    "\n",
    "# Optional trackers - good for visualizing our results\n",
    "train_losses = []\n",
    "test_losses = []\n",
    "train_correct = []\n",
    "test_correct = []\n",
    "\n",
    "for epoch in range(epochs):\n",
    "    trn_correct = 0\n",
    "    tst_correct = 0\n",
    "\n",
    "    for batch, (X_train, y_train) in enumerate(train_loader):\n",
    "        batch += 1\n",
    "\n",
    "        y_pred = model(X_train.view(100, -1))\n",
    "        loss = criterion(y_pred, y_train)\n",
    "\n",
    "        predicted = torch.max(y_pred.data, 1)[1]  # The digits that the output predicts\n",
    "        batch_correct = (predicted == y_train).sum()\n",
    "        trn_correct += batch_correct\n",
    "\n",
    "        # Update our parameters with backpropagation\n",
    "        optimizer.zero_grad()\n",
    "        loss.backward()\n",
    "        optimizer.step()\n",
    "\n",
    "        if batch % 200 == 0:\n",
    "            acc = trn_correct.item() * 100 / (100 * batch)\n",
    "            print(\n",
    "                f\"Epoch {epoch}, batch {batch}; loss: {loss.item()}, accuracy: {acc}\"\n",
    "            )\n",
    "\n",
    "    # Update training loss/correct counts\n",
    "    train_losses.append(loss)\n",
    "    train_correct.append(trn_correct)\n",
    "\n",
    "    with torch.no_grad(): # Don't update weights & biases w/ test data\n",
    "        for b, (X_test, y_test) in enumerate(test_loader):\n",
    "            y_val = model(X_test.view(500, -1))\n",
    "            predicted = torch.max(y_val.data, 1)[1]\n",
    "            tst_correct += (predicted == y_test).sum()\n",
    "\n",
    "    # Update loss & test accuracy for epoch\n",
    "    loss = criterion(y_val, y_test)\n",
    "    test_losses.append(loss)\n",
    "    test_correct.append(tst_correct)\n",
    "\n",
    "# CALCULATE TIME THAT HAS PASSED\n",
    "total_time = time.time() - start_time\n",
    "print(f\"Duration: {total_time / 60} mins\")\n"
   ]
  },
  {
   "cell_type": "markdown",
   "metadata": {},
   "source": [
    "Time to plot out our results."
   ]
  },
  {
   "cell_type": "code",
   "execution_count": 27,
   "metadata": {},
   "outputs": [
    {
     "data": {
      "image/png": "[encoded data removed]",
      "text/plain": [
       "<Figure size 432x288 with 1 Axes>"
      ]
     },
     "metadata": {
      "needs_background": "light"
     },
     "output_type": "display_data"
    }
   ],
   "source": [
    "plt.plot(train_losses, label=\"Training loss\")\n",
    "plt.plot(test_losses, label = \"Test / validation loss\")\n",
    "plt.legend();"
   ]
  },
  {
   "cell_type": "code",
   "execution_count": 28,
   "metadata": {},
   "outputs": [],
   "source": [
    "train_acc = [t / 600 for t in train_correct]"
   ]
  },
  {
   "cell_type": "code",
   "execution_count": 29,
   "metadata": {},
   "outputs": [],
   "source": [
    "test_acc = [t / 100 for t in test_correct]"
   ]
  },
  {
   "cell_type": "code",
   "execution_count": 30,
   "metadata": {},
   "outputs": [
    {
     "data": {
      "image/png": "[encoded data removed]",
      "text/plain": [
       "<Figure size 432x288 with 1 Axes>"
      ]
     },
     "metadata": {
      "needs_background": "light"
     },
     "output_type": "display_data"
    }
   ],
   "source": [
    "plt.plot(train_acc, label=\"Training accuracy\")\n",
    "plt.plot(test_acc, label=\"Test accuracy\")\n",
    "plt.legend();"
   ]
  },
  {
   "cell_type": "code",
   "execution_count": 31,
   "metadata": {},
   "outputs": [],
   "source": [
    "# Working with new unseen data\n",
    "test_load_all = DataLoader(test_data, batch_size=10000, shuffle=False)\n"
   ]
  },
  {
   "cell_type": "code",
   "execution_count": 32,
   "metadata": {},
   "outputs": [],
   "source": [
    "with torch.no_grad():\n",
    "    correct = 0\n",
    "    for X_test, y_test in test_load_all:\n",
    "        y_val = model(X_test.view(len(X_test), -1))\n",
    "        predicted = torch.max(y_val, 1)[1]\n",
    "        correct += (predicted == y_test).sum()\n"
   ]
  },
  {
   "cell_type": "code",
   "execution_count": 38,
   "metadata": {},
   "outputs": [
    {
     "name": "stdout",
     "output_type": "stream",
     "text": [
      "Total accuracy on test set: 97.55%\n"
     ]
    }
   ],
   "source": [
    "print(f\"Total accuracy on test set: {100 * correct.item() / len(test_data)}%\")"
   ]
  },
  {
   "cell_type": "code",
   "execution_count": 39,
   "metadata": {},
   "outputs": [
    {
     "data": {
      "text/plain": [
       "array([[ 971,    0,    1,    0,    1,    3,    4,    1,    3,    3],\n",
       "       [   0, 1119,    3,    0,    0,    0,    4,    3,    0,    2],\n",
       "       [   1,    5, 1001,    3,    1,    0,    2,    6,    2,    0],\n",
       "       [   3,    2,   11,  998,    1,   20,    1,    3,    7,   14],\n",
       "       [   0,    0,    3,    0,  966,    2,   10,    0,    3,   14],\n",
       "       [   0,    0,    0,    0,    0,  854,    2,    0,    2,    4],\n",
       "       [   1,    2,    2,    0,    2,    7,  933,    0,    1,    0],\n",
       "       [   0,    1,    6,    4,    4,    0,    0, 1009,    4,   12],\n",
       "       [   2,    6,    5,    4,    2,    6,    2,    4,  950,    6],\n",
       "       [   2,    0,    0,    1,    5,    0,    0,    2,    2,  954]])"
      ]
     },
     "execution_count": 39,
     "metadata": {},
     "output_type": "execute_result"
    }
   ],
   "source": [
    "confusion_matrix(predicted.view(-1), y_test.view(-1))\n"
   ]
  },
  {
   "cell_type": "code",
   "execution_count": null,
   "metadata": {},
   "outputs": [],
   "source": []
  }
 ],
 "metadata": {
  "kernelspec": {
   "display_name": "Python 3.7.3 ('pytorchenv')",
   "language": "python",
   "name": "python3"
  },
  "language_info": {
   "codemirror_mode": {
    "name": "ipython",
    "version": 3
   },
   "file_extension": ".py",
   "mimetype": "text/x-python",
   "name": "python",
   "nbconvert_exporter": "python",
   "pygments_lexer": "ipython3",
   "version": "3.7.3"
  },
  "orig_nbformat": 4,
  "vscode": {
   "interpreter": {
    "hash": "a07926e13da83625e8ea700d1e5c5ff159d56a271e96d0b65359b91b3fea6773"
   }
  }
 },
 "nbformat": 4,
 "nbformat_minor": 2
}
